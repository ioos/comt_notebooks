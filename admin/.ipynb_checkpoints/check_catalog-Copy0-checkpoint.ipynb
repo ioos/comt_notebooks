{
 "metadata": {
  "gist_id": "3a639c25f29ebdcae92a",
  "name": "",
  "signature": "sha256:5ed27051015d19abe4617c0d0c4e519476967d3a16b52e5270e790ca5761f83b"
 },
 "nbformat": 3,
 "nbformat_minor": 0,
 "worksheets": [
  {
   "cells": [
    {
     "cell_type": "code",
     "collapsed": false,
     "input": [
      "import iris\n",
      "iris.FUTURE.netcdf_promote = True\n",
      "\n",
      "url='http://comt.sura.org/thredds/dodsC/data/comt_1_archive/inundation_tropical/MDL_SLOSH/Hurricane_Ike_final_run_egm3'\n",
      "\n",
      "name_list=['water_surface_height_above_reference_datum',\n",
      "    'sea_surface_height_above_geoid','sea_surface_elevation',\n",
      "    'sea_surface_height_above_reference_ellipsoid','sea_surface_height_above_sea_level',\n",
      "    'sea_surface_height','water level']\n",
      "\n",
      "def name_in_list(cube):\n",
      "    return cube.standard_name in name_list"
     ],
     "language": "python",
     "metadata": {},
     "outputs": []
    },
    {
     "cell_type": "code",
     "collapsed": false,
     "input": [
      "def my_func(cube):\n",
      "    if cube.standard_name in name_list:\n",
      "        if cube.b2 = not any(m.method == 'maximum' for m in cube.cell_methods)\n",
      "    b = b1 and b2\n",
      "    return b"
     ],
     "language": "python",
     "metadata": {},
     "outputs": [],
     "prompt_number": 44
    },
    {
     "cell_type": "code",
     "collapsed": false,
     "input": [
      "def my_func(cube):\n",
      "    return(cube.standard_name in name_list) and (not any(m.method == 'maximum' for m in cube.cell_methods))"
     ],
     "language": "python",
     "metadata": {},
     "outputs": [],
     "prompt_number": 52
    },
    {
     "cell_type": "code",
     "collapsed": false,
     "input": [
      "my_func(cube)"
     ],
     "language": "python",
     "metadata": {},
     "outputs": [
      {
       "metadata": {},
       "output_type": "pyout",
       "prompt_number": 53,
       "text": [
        "True"
       ]
      }
     ],
     "prompt_number": 53
    },
    {
     "cell_type": "code",
     "collapsed": false,
     "input": [
      "my_constraint = iris.Constraint(cube_func=my_func)"
     ],
     "language": "python",
     "metadata": {},
     "outputs": [],
     "prompt_number": 54
    },
    {
     "cell_type": "code",
     "collapsed": false,
     "input": [
      "cube = iris.load_cube(url,my_constraint)"
     ],
     "language": "python",
     "metadata": {},
     "outputs": [],
     "prompt_number": 55
    },
    {
     "cell_type": "code",
     "collapsed": false,
     "input": [
      "print cube"
     ],
     "language": "python",
     "metadata": {},
     "outputs": [
      {
       "output_type": "stream",
       "stream": "stdout",
       "text": [
        "water_surface_height_above_reference_datum / (m) (time: 511; -- : 567; -- : 327)\n",
        "     Dimension coordinates:\n",
        "          time                                        x         -         -\n",
        "     Auxiliary coordinates:\n",
        "          latitude                                    -         x         x\n",
        "          longitude                                   -         x         x\n",
        "     Attributes:\n",
        "          Conventions: CF-1.0\n",
        "          Source: SLOSH\n",
        "          VerticalDatum: urn:ogc:def:datum:epsg::5103\n",
        "          _ChunkSize: [  1 567 327]\n",
        "          cdm_data_type: grid\n",
        "          id: inundation_tropical.MDL_SLOSH.Hurricane_Ike_final_run_egm3\n",
        "          institution: MDL - NOAA/NWS/MDL, inundation\n",
        "          summary: A hindcast of Hurricane Ike (2008) using SLOSH on the egm3 mesh with SLOSH's...\n",
        "          title: Inundation Tropical : MDL : SLOSH : Hurricane Ike final run egm3\n",
        "     Cell methods:\n",
        "          point: time\n"
       ]
      }
     ],
     "prompt_number": 56
    },
    {
     "cell_type": "code",
     "collapsed": false,
     "input": [
      "cube.attrs()"
     ],
     "language": "python",
     "metadata": {},
     "outputs": []
    },
    {
     "cell_type": "code",
     "collapsed": false,
     "input": [],
     "language": "python",
     "metadata": {},
     "outputs": []
    }
   ],
   "metadata": {}
  }
 ]
}