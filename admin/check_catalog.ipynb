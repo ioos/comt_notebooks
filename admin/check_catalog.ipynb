{
 "metadata": {
  "gist_id": "3a639c25f29ebdcae92a",
  "name": "",
  "signature": "sha256:f3c4fce9bb4420bd1f98224d9f1569c60b48c09dbe1d546f7ffe8b939e240af9"
 },
 "nbformat": 3,
 "nbformat_minor": 0,
 "worksheets": [
  {
   "cells": [
    {
     "cell_type": "markdown",
     "metadata": {},
     "source": [
      "##Test out UGRID-0.9 compliant unstructured grid model datasets with PYUGRID"
     ]
    },
    {
     "cell_type": "code",
     "collapsed": false,
     "input": [
      "import matplotlib.tri as tri\n",
      "import datetime as dt"
     ],
     "language": "python",
     "metadata": {},
     "outputs": [],
     "prompt_number": 1
    },
    {
     "cell_type": "code",
     "collapsed": false,
     "input": [
      "import cartopy.crs as ccrs\n",
      "import iris\n",
      "iris.FUTURE.netcdf_promote = True\n",
      "import pyugrid"
     ],
     "language": "python",
     "metadata": {},
     "outputs": [],
     "prompt_number": 2
    },
    {
     "cell_type": "code",
     "collapsed": false,
     "input": [
      "from thredds_crawler.crawl import Crawl"
     ],
     "language": "python",
     "metadata": {},
     "outputs": [],
     "prompt_number": 3
    },
    {
     "cell_type": "code",
     "collapsed": false,
     "input": [
      "catalog='http://comt.sura.org/thredds/comt_2_current.xml'\n",
      "catalog='http://comt.sura.org/thredds/comt_1_archive_summary.xml'\n",
      "#c = Crawl(catalog, select=[\".*-Agg\"])\n",
      "c = Crawl(catalog)\n",
      "\n",
      "print c.datasets"
     ],
     "language": "python",
     "metadata": {},
     "outputs": [
      {
       "output_type": "stream",
       "stream": "stdout",
       "text": [
        "Error procesing http://comt.sura.org/thredds/comt_1_archive_summary.xml?dataset=shelf_hypoxia.DAL_ROMS. 2004-2009_climatology_obc_with_oxygen_hnd_soc_20layers, invalid XML\n",
        "[<LeafDataset id: inundation_tropical.MDL_SLOSH.Hurricane_Ike_final_run_egm3, name: Inundation Tropical : MDL : SLOSH : Hurricane Ike final run egm3, services: ['OPENDAP', 'WCS', 'WMS', 'NetcdfSubset', 'NCML', 'UDDC', 'ISO']>, <LeafDataset id: inundation_tropical.MDL_SLOSH.Hurricane_Rita_final_run_egm3, name: Inundation Tropical : MDL : SLOSH : Hurricane Rita final run egm3, services: ['OPENDAP', 'WCS', 'WMS', 'NetcdfSubset', 'NCML', 'UDDC', 'ISO']>, <LeafDataset id: inundation_tropical.UND_ADCIRC.Hurricane_Ike_2D_final_run_with_waves, name: Inundation Tropical : UND : ADCIRC : Hurricane Ike 2D final run with waves, services: ['OPENDAP', 'WCS', 'WMS', 'NetcdfSubset', 'NCML', 'UDDC', 'ISO']>, <LeafDataset id: inundation_tropical.UND_ADCIRC.Hurricane_Ike_2D_final_run_without_waves, name: Inundation Tropical : UND : ADCIRC : Hurricane Ike 2D final run without waves, services: ['OPENDAP', 'WCS', 'WMS', 'NetcdfSubset', 'NCML', 'UDDC', 'ISO']>, <LeafDataset id: inundation_tropical.UND_ADCIRC.Hurricane_Ike_2D_preliminary_run_1_spinup, name: Inundation Tropical : UND : ADCIRC : Hurricane Ike 2D preliminary run 1 spinup, services: ['OPENDAP', 'WCS', 'WMS', 'NetcdfSubset', 'NCML', 'UDDC', 'ISO']>, <LeafDataset id: inundation_tropical.UND_ADCIRC.Hurricane_Ike_2D_preliminary_run_2_spinup_without_advection_implicit_1s, name: Inundation Tropical : UND : ADCIRC : Hurricane Ike 2D preliminary run 2 spinup without advection implicit 1s, services: ['OPENDAP', 'WCS', 'WMS', 'NetcdfSubset', 'NCML', 'UDDC', 'ISO']>, <LeafDataset id: inundation_tropical.UND_ADCIRC.Hurricane_Ike_2D_preliminary_run_3_spinup_with_levees, name: Inundation Tropical : UND : ADCIRC : Hurricane Ike 2D preliminary run 3 spinup with levees, services: ['OPENDAP', 'WCS', 'WMS', 'NetcdfSubset', 'NCML', 'UDDC', 'ISO']>, <LeafDataset id: inundation_tropical.UND_ADCIRC.Hurricane_Ike_2D_preliminary_run_4_spinup_with_levees_and_river_flow, name: Inundation Tropical : UND : ADCIRC : Hurricane Ike 2D preliminary run 4 spinup with levees and river flow, services: ['OPENDAP', 'WCS', 'WMS', 'NetcdfSubset', 'NCML', 'UDDC', 'ISO']>, <LeafDataset id: inundation_tropical.UND_ADCIRC.Hurricane_Ike_2D_preliminary_run_5_tides_only, name: Inundation Tropical : UND : ADCIRC : Hurricane Ike 2D preliminary run 5 tides only, services: ['OPENDAP', 'WCS', 'WMS', 'NetcdfSubset', 'NCML', 'UDDC', 'ISO']>, <LeafDataset id: inundation_tropical.UND_ADCIRC.Hurricane_Ike_2D_preliminary_run_6_without_waves_and_advection_implicit_1s, name: Inundation Tropical : UND : ADCIRC : Hurricane Ike 2D preliminary run 6 without waves and advection implicit 1s, services: ['OPENDAP', 'WCS', 'WMS', 'NetcdfSubset', 'NCML', 'UDDC', 'ISO']>, <LeafDataset id: inundation_tropical.UND_ADCIRC.Hurricane_Ike_2D_preliminary_run_7_with_waves_without_advection_implicit_1s, name: Inundation Tropical : UND : ADCIRC : Hurricane Ike 2D preliminary run 7 with waves without advection implicit 1s, services: ['OPENDAP', 'WCS', 'WMS', 'NetcdfSubset', 'NCML', 'UDDC', 'ISO']>, <LeafDataset id: inundation_tropical.UND_ADCIRC.Hurricane_Ike_2D_preliminary_run_8_with_waves_and_levees, name: Inundation Tropical : UND : ADCIRC : Hurricane Ike 2D preliminary run 8 with waves and levees, services: ['OPENDAP', 'WCS', 'WMS', 'NetcdfSubset', 'NCML', 'UDDC', 'ISO']>, <LeafDataset id: inundation_tropical.UND_ADCIRC.Hurricane_Ike_2D_preliminary_run_9_with_waves_and_levees_and_river_flow, name: Inundation Tropical : UND : ADCIRC : Hurricane Ike 2D preliminary run 9 with waves and levees and river flow, services: ['OPENDAP', 'WCS', 'WMS', 'NetcdfSubset', 'NCML', 'UDDC', 'ISO']>, <LeafDataset id: inundation_tropical.UND_ADCIRC.Hurricane_Ike_3D_final_run_with_waves, name: Inundation Tropical : UND : ADCIRC : Hurricane Ike 3D final run with waves, services: ['OPENDAP', 'WCS', 'WMS', 'NetcdfSubset', 'NCML', 'UDDC', 'ISO']>, <LeafDataset id: inundation_tropical.UND_ADCIRC.Hurricane_Ike_3D_final_run_without_waves, name: Inundation Tropical : UND : ADCIRC : Hurricane Ike 3D final run without waves, services: ['OPENDAP', 'WCS', 'WMS', 'NetcdfSubset', 'NCML', 'UDDC', 'ISO']>, <LeafDataset id: inundation_tropical.UND_ADCIRC.Hurricane_Ike_3D_preliminary_run_1_spinup, name: Inundation Tropical : UND : ADCIRC : Hurricane Ike 3D preliminary run 1 spinup, services: ['OPENDAP', 'WCS', 'WMS', 'NetcdfSubset', 'NCML', 'UDDC', 'ISO']>, <LeafDataset id: inundation_tropical.UND_ADCIRC.Hurricane_Ike_Timing_with_waves, name: Inundation Tropical : UND : ADCIRC : Hurricane Ike Timing with waves, services: ['OPENDAP', 'WCS', 'WMS', 'NetcdfSubset', 'NCML', 'UDDC', 'ISO']>, <LeafDataset id: inundation_tropical.UND_ADCIRC.Hurricane_Ike_Timing_without_waves, name: Inundation Tropical : UND : ADCIRC : Hurricane Ike Timing without waves, services: ['OPENDAP', 'WCS', 'WMS', 'NetcdfSubset', 'NCML', 'UDDC', 'ISO']>, <LeafDataset id: inundation_tropical.UND_ADCIRC.Hurricane_Rita_2D_final_run_with_waves, name: Inundation Tropical : UND : ADCIRC : Hurricane Rita 2D final run with waves, services: ['OPENDAP', 'WCS', 'WMS', 'NetcdfSubset', 'NCML', 'UDDC', 'ISO']>, <LeafDataset id: inundation_tropical.UND_ADCIRC.Hurricane_Rita_2D_final_run_without_waves, name: Inundation Tropical : UND : ADCIRC : Hurricane Rita 2D final run without waves, services: ['OPENDAP', 'WCS', 'WMS', 'NetcdfSubset', 'NCML', 'UDDC', 'ISO']>, <LeafDataset id: inundation_tropical.UND_ADCIRC.Hurricane_Rita_2D_preliminary_run_1_spinup, name: Inundation Tropical : UND : ADCIRC : Hurricane Rita 2D preliminary run 1 spinup, services: ['OPENDAP', 'WCS', 'WMS', 'NetcdfSubset', 'NCML', 'UDDC', 'ISO']>, <LeafDataset id: inundation_tropical.UND_ADCIRC.Hurricane_Rita_2D_preliminary_run_2_spinup_without_advection_implicit_1s, name: Inundation Tropical : UND : ADCIRC : Hurricane Rita 2D preliminary run 2 spinup without advection implicit 1s, services: ['OPENDAP', 'WCS', 'WMS', 'NetcdfSubset', 'NCML', 'UDDC', 'ISO']>, <LeafDataset id: inundation_tropical.UND_ADCIRC.Hurricane_Rita_2D_preliminary_run_3_tides_only, name: Inundation Tropical : UND : ADCIRC : Hurricane Rita 2D preliminary run 3 tides only, services: ['OPENDAP', 'WCS', 'WMS', 'NetcdfSubset', 'NCML', 'UDDC', 'ISO']>, <LeafDataset id: inundation_tropical.UND_ADCIRC.Hurricane_Rita_2D_preliminary_run_4_with_waves_without_advection_implicit_1s, name: Inundation Tropical : UND : ADCIRC : Hurricane Rita 2D preliminary run 4 with waves without advection implicit 1s, services: ['OPENDAP', 'WCS', 'WMS', 'NetcdfSubset', 'NCML', 'UDDC', 'ISO']>, <LeafDataset id: inundation_tropical.UND_ADCIRC.Hurricane_Rita_2D_preliminary_run_5_without_waves_and_advection_implicit_1s, name: Inundation Tropical : UND : ADCIRC : Hurricane Rita 2D preliminary run 5 without waves and advection implicit 1s, services: ['OPENDAP', 'WCS', 'WMS', 'NetcdfSubset', 'NCML', 'UDDC', 'ISO']>, <LeafDataset id: inundation_tropical.UND_ADCIRC.Hurricane_Rita_3D_final_run_with_waves, name: Inundation Tropical : UND : ADCIRC : Hurricane Rita 3D final run with waves, services: ['OPENDAP', 'WCS', 'WMS', 'NetcdfSubset', 'NCML', 'UDDC', 'ISO']>, <LeafDataset id: inundation_tropical.UND_ADCIRC.Hurricane_Rita_3D_final_run_without_waves, name: Inundation Tropical : UND : ADCIRC : Hurricane Rita 3D final run without waves, services: ['OPENDAP', 'WCS', 'WMS', 'NetcdfSubset', 'NCML', 'UDDC', 'ISO']>, <LeafDataset id: inundation_tropical.UND_ADCIRC.Hurricane_Rita_3D_preliminary_run_1_spinup, name: Inundation Tropical : UND : ADCIRC : Hurricane Rita 3D preliminary run 1 spinup, services: ['OPENDAP', 'WCS', 'WMS', 'NetcdfSubset', 'NCML', 'UDDC', 'ISO']>, <LeafDataset id: inundation_tropical.UND_ADCIRC.Tides_only_2D_final_run, name: Inundation Tropical : UND : ADCIRC : Tides only 2D final run, services: ['OPENDAP', 'WCS', 'WMS', 'NetcdfSubset', 'NCML', 'UDDC', 'ISO']>, <LeafDataset id: inundation_tropical.UND_ADCIRC.Tides_only_2D_preliminary_run_1_without_advection_implicit_1s, name: Inundation Tropical : UND : ADCIRC : Tides only 2D preliminary run 1 without advection implicit 1s, services: ['OPENDAP', 'WCS', 'WMS', 'NetcdfSubset', 'NCML', 'UDDC', 'ISO']>, <LeafDataset id: inundation_tropical.UND_ADCIRC.Tides_only_3D_final_run, name: Inundation Tropical : UND : ADCIRC : Tides only 3D final run, services: ['OPENDAP', 'WCS', 'WMS', 'NetcdfSubset', 'NCML', 'UDDC', 'ISO']>, <LeafDataset id: inundation_tropical.UND_SLOSH.Hurricane_Ike_final_run_egl3, name: Inundation Tropical : UND : SLOSH : Hurricane Ike final run egl3, services: ['OPENDAP', 'WCS', 'WMS', 'NetcdfSubset', 'NCML', 'UDDC', 'ISO']>, <LeafDataset id: inundation_tropical.UND_SLOSH.Hurricane_Ike_final_run_egm3, name: Inundation Tropical : UND : SLOSH : Hurricane Ike final run egm3, services: ['OPENDAP', 'WCS', 'WMS', 'NetcdfSubset', 'NCML', 'UDDC', 'ISO']>, <LeafDataset id: inundation_tropical.UND_SLOSH.Hurricane_Ike_preliminary_run_1_egl3_without_tides, name: Inundation Tropical : UND : SLOSH : Hurricane Ike preliminary run 1 egl3 without tides, services: ['OPENDAP', 'WCS', 'WMS', 'NetcdfSubset', 'NCML', 'UDDC', 'ISO']>, <LeafDataset id: inundation_tropical.UND_SLOSH.Hurricane_Ike_preliminary_run_2_egl3_with_SLOSH_winds, name: Inundation Tropical : UND : SLOSH : Hurricane Ike preliminary run 2 egl3 with SLOSH winds, services: ['OPENDAP', 'WCS', 'WMS', 'NetcdfSubset', 'NCML', 'UDDC', 'ISO']>, <LeafDataset id: inundation_tropical.UND_SLOSH.Hurricane_Ike_preliminary_run_3_egl3_with_SLOSH_winds_without_tides, name: Inundation Tropical : UND : SLOSH : Hurricane Ike preliminary run 3 egl3 with SLOSH winds without tides, services: ['OPENDAP', 'WCS', 'WMS', 'NetcdfSubset', 'NCML', 'UDDC', 'ISO']>, <LeafDataset id: inundation_tropical.UND_SLOSH.Hurricane_Ike_preliminary_run_4_egm3_without_tides, name: Inundation Tropical : UND : SLOSH : Hurricane Ike preliminary run 4 egm3 without tides, services: ['OPENDAP', 'WCS', 'WMS', 'NetcdfSubset', 'NCML', 'UDDC', 'ISO']>, <LeafDataset id: inundation_tropical.UND_SLOSH.Hurricane_Ike_preliminary_run_5_egm3_with_SLOSH_winds, name: Inundation Tropical : UND : SLOSH : Hurricane Ike preliminary run 5 egm3 with SLOSH winds, services: ['OPENDAP', 'WCS', 'WMS', 'NetcdfSubset', 'NCML', 'UDDC', 'ISO']>, <LeafDataset id: inundation_tropical.UND_SLOSH.Hurricane_Ike_preliminary_run_6_egm3_with_SLOSH_winds_without_tides, name: Inundation Tropical : UND : SLOSH : Hurricane Ike preliminary run 6 egm3 with SLOSH winds without tides, services: ['OPENDAP', 'WCS', 'WMS', 'NetcdfSubset', 'NCML', 'UDDC', 'ISO']>, <LeafDataset id: inundation_tropical.UND_SLOSH.Hurricane_Rita_final_run_ebp3, name: Inundation Tropical : UND : SLOSH : Hurricane Rita final run ebp3, services: ['OPENDAP', 'WCS', 'WMS', 'NetcdfSubset', 'NCML', 'UDDC', 'ISO']>, <LeafDataset id: inundation_tropical.UND_SLOSH.Hurricane_Rita_final_run_egm3, name: Inundation Tropical : UND : SLOSH : Hurricane Rita final run egm3, services: ['OPENDAP', 'WCS', 'WMS', 'NetcdfSubset', 'NCML', 'UDDC', 'ISO']>, <LeafDataset id: inundation_tropical.UND_SLOSH.Hurricane_Rita_preliminary_run_1_ebp3_without_tides, name: Inundation Tropical : UND : SLOSH : Hurricane Rita preliminary run 1 ebp3 without tides, services: ['OPENDAP', 'WCS', 'WMS', 'NetcdfSubset', 'NCML', 'UDDC', 'ISO']>, <LeafDataset id: inundation_tropical.UND_SLOSH.Hurricane_Rita_preliminary_run_2_ebp3_with_SLOSH_winds, name: Inundation Tropical : UND : SLOSH : Hurricane Rita preliminary run 2 ebp3 with SLOSH winds, services: ['OPENDAP', 'WCS', 'WMS', 'NetcdfSubset', 'NCML', 'UDDC', 'ISO']>, <LeafDataset id: inundation_tropical.UND_SLOSH.Hurricane_Rita_preliminary_run_3_ebp3_with_SLOSH_winds_without_tides, name: Inundation Tropical : UND : SLOSH : Hurricane Rita preliminary run 3 ebp3 with SLOSH winds without tides, services: ['OPENDAP', 'WCS', 'WMS', 'NetcdfSubset', 'NCML', 'UDDC', 'ISO']>, <LeafDataset id: inundation_tropical.UND_SLOSH.Hurricane_Rita_preliminary_run_4_egm3_without_tides, name: Inundation Tropical : UND : SLOSH : Hurricane Rita preliminary run 4 egm3 without tides, services: ['OPENDAP', 'WCS', 'WMS', 'NetcdfSubset', 'NCML', 'UDDC', 'ISO']>, <LeafDataset id: inundation_tropical.UND_SLOSH.Hurricane_Rita_preliminary_run_5_egm3_with_SLOSH_winds, name: Inundation Tropical : UND : SLOSH : Hurricane Rita preliminary run 5 egm3 with SLOSH winds, services: ['OPENDAP', 'WCS', 'WMS', 'NetcdfSubset', 'NCML', 'UDDC', 'ISO']>, <LeafDataset id: inundation_tropical.UND_SLOSH.Hurricane_Rita_preliminary_run_6_egm3_with_SLOSH_winds_without_tides, name: Inundation Tropical : UND : SLOSH : Hurricane Rita preliminary run 6 egm3 with SLOSH winds without tides, services: ['OPENDAP', 'WCS', 'WMS', 'NetcdfSubset', 'NCML', 'UDDC', 'ISO']>, <LeafDataset id: inundation_tropical.USF_FVCOM.Hurricane_Ike_2D_final_run_with_waves, name: Inundation Tropical : USF : FVCOM : Hurricane Ike 2D final run with waves, services: ['OPENDAP', 'WCS', 'WMS', 'NetcdfSubset', 'NCML', 'UDDC', 'ISO']>, <LeafDataset id: inundation_tropical.USF_FVCOM.Hurricane_Ike_2D_final_run_without_waves, name: Inundation Tropical : USF : FVCOM : Hurricane Ike 2D final run without waves, services: ['OPENDAP', 'WCS', 'WMS', 'NetcdfSubset', 'NCML', 'UDDC', 'ISO']>, <LeafDataset id: inundation_tropical.USF_FVCOM.Hurricane_Ike_3D_final_run_with_waves, name: Inundation Tropical : USF : FVCOM : Hurricane Ike 3D final run with waves, services: ['OPENDAP', 'WCS', 'WMS', 'NetcdfSubset', 'NCML', 'UDDC', 'ISO']>, <LeafDataset id: inundation_tropical.USF_FVCOM.Hurricane_Ike_3D_final_run_without_waves, name: Inundation Tropical : USF : FVCOM : Hurricane Ike 3D final run without waves, services: ['OPENDAP', 'WCS', 'WMS', 'NetcdfSubset', 'NCML', 'UDDC', 'ISO']>, <LeafDataset id: inundation_tropical.USF_FVCOM.Hurricane_Rita_2D_final_run_with_waves, name: Inundation Tropical : USF : FVCOM : Hurricane Rita 2D final run with waves, services: ['OPENDAP', 'WCS', 'WMS', 'NetcdfSubset', 'NCML', 'UDDC', 'ISO']>, <LeafDataset id: inundation_tropical.USF_FVCOM.Hurricane_Rita_2D_final_run_without_waves, name: Inundation Tropical : USF : FVCOM : Hurricane Rita 2D final run without waves, services: ['OPENDAP', 'WCS', 'WMS', 'NetcdfSubset', 'NCML', 'UDDC', 'ISO']>, <LeafDataset id: inundation_tropical.USF_FVCOM.Hurricane_Rita_3D_final_run_with_waves, name: Inundation Tropical : USF : FVCOM : Hurricane Rita 3D final run with waves, services: ['OPENDAP', 'WCS', 'WMS', 'NetcdfSubset', 'NCML', 'UDDC', 'ISO']>, <LeafDataset id: inundation_tropical.USF_FVCOM.Hurricane_Rita_3D_final_run_without_waves, name: Inundation Tropical : USF : FVCOM : Hurricane Rita 3D final run without waves, services: ['OPENDAP', 'WCS', 'WMS', 'NetcdfSubset', 'NCML', 'UDDC', 'ISO']>, <LeafDataset id: inundation_tropical.USF_FVCOM.SWAN_Ike_final_run_with_2DSurge, name: Inundation Tropical : USF : FVCOM : SWAN Ike final run with 2DSurge, services: ['OPENDAP', 'WCS', 'WMS', 'NetcdfSubset', 'NCML', 'UDDC', 'ISO']>, <LeafDataset id: inundation_tropical.USF_FVCOM.SWAN_Ike_final_run_without_Surge, name: Inundation Tropical : USF : FVCOM : SWAN Ike final run without Surge, services: ['OPENDAP', 'WCS', 'WMS', 'NetcdfSubset', 'NCML', 'UDDC', 'ISO']>, <LeafDataset id: inundation_tropical.USF_FVCOM.SWAN_Rita_final_run_with_2DSurge, name: Inundation Tropical : USF : FVCOM : SWAN Rita final run with 2DSurge, services: ['OPENDAP', 'WCS', 'WMS', 'NetcdfSubset', 'NCML', 'UDDC', 'ISO']>, <LeafDataset id: inundation_tropical.USF_FVCOM.SWAN_Rita_final_run_without_Surge, name: Inundation Tropical : USF : FVCOM : SWAN Rita final run without Surge, services: ['OPENDAP', 'WCS', 'WMS', 'NetcdfSubset', 'NCML', 'UDDC', 'ISO']>, <LeafDataset id: inundation_tropical.USF_FVCOM.Tides_only_2D_final_run, name: Inundation Tropical : USF : FVCOM : Tides only 2D final run, services: ['OPENDAP', 'WCS', 'WMS', 'NetcdfSubset', 'NCML', 'UDDC', 'ISO']>, <LeafDataset id: inundation_tropical.USF_FVCOM.Tides_only_2D_preliminary_run_1_fixed_manning, name: Inundation Tropical : USF : FVCOM : Tides only 2D preliminary run 1 fixed manning, services: ['OPENDAP', 'WCS', 'WMS', 'NetcdfSubset', 'NCML', 'UDDC', 'ISO']>, <LeafDataset id: inundation_tropical.USF_FVCOM.Tides_only_2D_preliminary_run_2_varied_manning_minimum_manning_0.025, name: Inundation Tropical : USF : FVCOM : Tides only 2D preliminary run 2 varied manning minimum manning 0.025, services: ['OPENDAP', 'WCS', 'WMS', 'NetcdfSubset', 'NCML', 'UDDC', 'ISO']>, <LeafDataset id: inundation_tropical.USF_FVCOM.Tides_only_3D_final_run, name: Inundation Tropical : USF : FVCOM : Tides only 3D final run, services: ['OPENDAP', 'WCS', 'WMS', 'NetcdfSubset', 'NCML', 'UDDC', 'ISO']>, <LeafDataset id: inundation_tropical.USF_FVCOM.Tides_only_3D_preliminary_run_1_fixed_roughness, name: Inundation Tropical : USF : FVCOM : Tides only 3D preliminary run 1 fixed roughness, services: ['OPENDAP', 'WCS', 'WMS', 'NetcdfSubset', 'NCML', 'UDDC', 'ISO']>, <LeafDataset id: inundation_tropical.VIMS_SELFE.Hurricane_Ike_2D_final_run_wave_only, name: Inundation Tropical : VIMS : SELFE : Hurricane Ike 2D final run wave only, services: ['OPENDAP', 'WCS', 'WMS', 'NetcdfSubset', 'NCML', 'UDDC', 'ISO']>, <LeafDataset id: inundation_tropical.VIMS_SELFE.Hurricane_Ike_2D_final_run_with_waves, name: Inundation Tropical : VIMS : SELFE : Hurricane Ike 2D final run with waves, services: ['OPENDAP', 'WCS', 'WMS', 'NetcdfSubset', 'NCML', 'UDDC', 'ISO']>, <LeafDataset id: inundation_tropical.VIMS_SELFE.Hurricane_Ike_2D_final_run_without_waves, name: Inundation Tropical : VIMS : SELFE : Hurricane Ike 2D final run without waves, services: ['OPENDAP', 'WCS', 'WMS', 'NetcdfSubset', 'NCML', 'UDDC', 'ISO']>, <LeafDataset id: inundation_tropical.VIMS_SELFE.Hurricane_Ike_3D_final_run_with_waves, name: Inundation Tropical : VIMS : SELFE : Hurricane Ike 3D final run with waves, services: ['OPENDAP', 'WCS', 'WMS', 'NetcdfSubset', 'NCML', 'UDDC', 'ISO']>, <LeafDataset id: inundation_tropical.VIMS_SELFE.Hurricane_Ike_3D_final_run_without_waves, name: Inundation Tropical : VIMS : SELFE : Hurricane Ike 3D final run without waves, services: ['OPENDAP', 'WCS', 'WMS', 'NetcdfSubset', 'NCML', 'UDDC', 'ISO']>, <LeafDataset id: inundation_tropical.VIMS_SELFE.Hurricane_Rita_2D_final_run_waves_only, name: Inundation Tropical : VIMS : SELFE : Hurricane Rita 2D final run waves only, services: ['OPENDAP', 'WCS', 'WMS', 'NetcdfSubset', 'NCML', 'UDDC', 'ISO']>, <LeafDataset id: inundation_tropical.VIMS_SELFE.Hurricane_Rita_2D_final_run_with_waves, name: Inundation Tropical : VIMS : SELFE : Hurricane Rita 2D final run with waves, services: ['OPENDAP', 'WCS', 'WMS', 'NetcdfSubset', 'NCML', 'UDDC', 'ISO']>, <LeafDataset id: inundation_tropical.VIMS_SELFE.Hurricane_Rita_2D_final_run_without_waves, name: Inundation Tropical : VIMS : SELFE : Hurricane Rita 2D final run without waves, services: ['OPENDAP', 'WCS', 'WMS', 'NetcdfSubset', 'NCML', 'UDDC', 'ISO']>, <LeafDataset id: inundation_tropical.VIMS_SELFE.Hurricane_Rita_3D_final_run_with_waves, name: Inundation Tropical : VIMS : SELFE : Hurricane Rita 3D final run with waves, services: ['OPENDAP', 'WCS', 'WMS', 'NetcdfSubset', 'NCML', 'UDDC', 'ISO']>, <LeafDataset id: inundation_tropical.VIMS_SELFE.Hurricane_Rita_3D_final_run_without_waves, name: Inundation Tropical : VIMS : SELFE : Hurricane Rita 3D final run without waves, services: ['OPENDAP', 'WCS', 'WMS', 'NetcdfSubset', 'NCML', 'UDDC', 'ISO']>, <LeafDataset id: inundation_extratropical.UMASS_FVCOM.2005_3D_final_run_without_waves, name: Inundation Extratropical : UMASS : FVCOM : 2005 3D final run without waves, services: ['OPENDAP', 'WCS', 'WMS', 'NetcdfSubset', 'NCML', 'UDDC', 'ISO']>, <LeafDataset id: inundation_extratropical.UMASS_FVCOM.2005_3D_final_run_waves_only, name: Inundation Extratropical : UMASS : FVCOM : 2005 3D final run waves only, services: ['OPENDAP', 'WCS', 'WMS', 'NetcdfSubset', 'NCML', 'UDDC', 'ISO']>, <LeafDataset id: inundation_extratropical.UMASS_FVCOM.2005_3D_final_run_with_waves, name: Inundation Extratropical : UMASS : FVCOM : 2005 3D final run with waves, services: ['OPENDAP', 'WCS', 'WMS', 'NetcdfSubset', 'NCML', 'UDDC', 'ISO']>, <LeafDataset id: inundation_extratropical.UMASS_FVCOM.2007_3D_final_run_without_waves, name: Inundation Extratropical : UMASS : FVCOM : 2007 3D final run without waves, services: ['OPENDAP', 'WCS', 'WMS', 'NetcdfSubset', 'NCML', 'UDDC', 'ISO']>, <LeafDataset id: inundation_extratropical.UMASS_FVCOM.2007_3D_final_run_waves_only, name: Inundation Extratropical : UMASS : FVCOM : 2007 3D final run waves only, services: ['OPENDAP', 'WCS', 'WMS', 'NetcdfSubset', 'NCML', 'UDDC', 'ISO']>, <LeafDataset id: inundation_extratropical.UMASS_FVCOM.2007_3D_final_run_with_waves, name: Inundation Extratropical : UMASS : FVCOM : 2007 3D final run with waves, services: ['OPENDAP', 'WCS', 'WMS', 'NetcdfSubset', 'NCML', 'UDDC', 'ISO']>, <LeafDataset id: inundation_extratropical.UND_ADCIRC.2005_2D_final_run_without_waves, name: Inundation Extratropical : UND : ADCIRC : 2005 2D final run without waves, services: ['OPENDAP', 'WCS', 'WMS', 'NetcdfSubset', 'NCML', 'UDDC', 'ISO']>, <LeafDataset id: inundation_extratropical.UND_ADCIRC.2005_2D_final_run_wave_model_only_without_circulation, name: Inundation Extratropical : UND : ADCIRC : 2005 2D final run wave model only without circulation, services: ['OPENDAP', 'WCS', 'WMS', 'NetcdfSubset', 'NCML', 'UDDC', 'ISO']>, <LeafDataset id: inundation_extratropical.UND_ADCIRC.2005_2D_final_run_with_waves, name: Inundation Extratropical : UND : ADCIRC : 2005 2D final run with waves, services: ['OPENDAP', 'WCS', 'WMS', 'NetcdfSubset', 'NCML', 'UDDC', 'ISO']>, <LeafDataset id: inundation_extratropical.UND_ADCIRC.2007_2D_final_run_without_waves, name: Inundation Extratropical : UND : ADCIRC : 2007 2D final run without waves, services: ['OPENDAP', 'WCS', 'WMS', 'NetcdfSubset', 'NCML', 'UDDC', 'ISO']>, <LeafDataset id: inundation_extratropical.UND_ADCIRC.2007_2D_final_run_wave_model_only_without_circulation, name: Inundation Extratropical : UND : ADCIRC : 2007 2D final run wave model only without circulation, services: ['OPENDAP', 'WCS', 'WMS', 'NetcdfSubset', 'NCML', 'UDDC', 'ISO']>, <LeafDataset id: inundation_extratropical.UND_ADCIRC.2007_2D_final_run_with_waves, name: Inundation Extratropical : UND : ADCIRC : 2007 2D final run with waves, services: ['OPENDAP', 'WCS', 'WMS', 'NetcdfSubset', 'NCML', 'UDDC', 'ISO']>, <LeafDataset id: inundation_extratropical.UND_ADCIRC.2010_2D_final_run_tides_only, name: Inundation Extratropical : UND : ADCIRC : 2010 2D final run tides only, services: ['OPENDAP', 'WCS', 'WMS', 'NetcdfSubset', 'NCML', 'UDDC', 'ISO']>, <LeafDataset id: inundation_extratropical.VIMS_SELFE.2005_2D_final_run_waves_only, name: Inundation Extratropical : VIMS : SELFE : 2005 2D final run waves only, services: ['OPENDAP', 'WCS', 'WMS', 'NetcdfSubset', 'NCML', 'UDDC', 'ISO']>, <LeafDataset id: inundation_extratropical.VIMS_SELFE.2005_2D_final_run_with_waves, name: Inundation Extratropical : VIMS : SELFE : 2005 2D final run with waves, services: ['OPENDAP', 'WCS', 'WMS', 'NetcdfSubset', 'NCML', 'UDDC', 'ISO']>, <LeafDataset id: inundation_extratropical.VIMS_SELFE.2005_2D_final_run_without_waves, name: Inundation Extratropical : VIMS : SELFE : 2005 2D final run without waves, services: ['OPENDAP', 'WCS', 'WMS', 'NetcdfSubset', 'NCML', 'UDDC', 'ISO']>, <LeafDataset id: inundation_extratropical.VIMS_SELFE.2005_2D_preliminary_run_waves_only, name: Inundation Extratropical : VIMS : SELFE : 2005 2D preliminary run waves only, services: ['OPENDAP', 'WCS', 'WMS', 'NetcdfSubset', 'NCML', 'UDDC', 'ISO']>, <LeafDataset id: inundation_extratropical.VIMS_SELFE.2005_2D_preliminary_run_with_waves, name: Inundation Extratropical : VIMS : SELFE : 2005 2D preliminary run with waves, services: ['OPENDAP', 'WCS', 'WMS', 'NetcdfSubset', 'NCML', 'UDDC', 'ISO']>, <LeafDataset id: inundation_extratropical.VIMS_SELFE.2005_2D_preliminary_run_without_waves, name: Inundation Extratropical : VIMS : SELFE : 2005 2D preliminary run without waves, services: ['OPENDAP', 'WCS', 'WMS', 'NetcdfSubset', 'NCML', 'UDDC', 'ISO']>, <LeafDataset id: inundation_extratropical.VIMS_SELFE.2007_2D_final_run_waves_only, name: Inundation Extratropical : VIMS : SELFE : 2007 2D final run waves only, services: ['OPENDAP', 'WCS', 'WMS', 'NetcdfSubset', 'NCML', 'UDDC', 'ISO']>, <LeafDataset id: inundation_extratropical.VIMS_SELFE.2007_2D_final_run_with_waves, name: Inundation Extratropical : VIMS : SELFE : 2007 2D final run with waves, services: ['OPENDAP', 'WCS', 'WMS', 'NetcdfSubset', 'NCML', 'UDDC', 'ISO']>, <LeafDataset id: inundation_extratropical.VIMS_SELFE.2007_2D_final_run_without_waves, name: Inundation Extratropical : VIMS : SELFE : 2007 2D final run without waves, services: ['OPENDAP', 'WCS', 'WMS', 'NetcdfSubset', 'NCML', 'UDDC', 'ISO']>, <LeafDataset id: inundation_extratropical.VIMS_SELFE.2007_2D_preliminary_run_waves_only, name: Inundation Extratropical : VIMS : SELFE : 2007 2D preliminary run waves only, services: ['OPENDAP', 'WCS', 'WMS', 'NetcdfSubset', 'NCML', 'UDDC', 'ISO']>, <LeafDataset id: inundation_extratropical.VIMS_SELFE.2007_2D_preliminary_run_with_waves, name: Inundation Extratropical : VIMS : SELFE : 2007 2D preliminary run with waves, services: ['OPENDAP', 'WCS', 'WMS', 'NetcdfSubset', 'NCML', 'UDDC', 'ISO']>, <LeafDataset id: inundation_extratropical.VIMS_SELFE.2007_2D_preliminary_run_without_waves, name: Inundation Extratropical : VIMS : SELFE : 2007 2D preliminary run without waves, services: ['OPENDAP', 'WCS', 'WMS', 'NetcdfSubset', 'NCML', 'UDDC', 'ISO']>, <LeafDataset id: inundation_extratropical.VIMS_SELFE.2010_2D_final_run_tide_only, name: Inundation Extratropical : VIMS : SELFE : 2010 2D final run tide only, services: ['OPENDAP', 'WCS', 'WMS', 'NetcdfSubset', 'NCML', 'UDDC', 'ISO']>, <LeafDataset id: inundation_extratropical.VIMS_SELFE.2010_2D_preliminary_run_without_waves, name: Inundation Extratropical : VIMS : SELFE : 2010 2D preliminary run without waves, services: ['OPENDAP', 'WCS', 'WMS', 'NetcdfSubset', 'NCML', 'UDDC', 'ISO']>, <LeafDataset id: estuarine_hypoxia.VIMS_CBOFS.2004-2005, name: Estuarine Hypoxia : VIMS : CBOFS : 2004-2005, services: ['OPENDAP', 'WCS', 'WMS', 'NetcdfSubset', 'NCML', 'UDDC', 'ISO']>, <LeafDataset id: shelf_hypoxia.DAL_ROMS.2004-2009_climatology_obc_with_oxygen_inst_rem_20layers, name: Shelf Hypoxia : DAL : ROMS : 2004-2009 climatology obc with oxygen inst rem 20layers, services: ['OPENDAP', 'WCS', 'WMS', 'NetcdfSubset', 'NCML', 'UDDC', 'ISO']>, <LeafDataset id: shelf_hypoxia.DAL_ROMS.2004-2009_hycom_obc_with_oxygen_inst_rem_30layers, name: Shelf Hypoxia : DAL : ROMS : 2004-2009 hycom obc with oxygen inst rem 30layers, services: ['OPENDAP', 'WCS', 'WMS', 'NetcdfSubset', 'NCML', 'UDDC', 'ISO']>, <LeafDataset id: shelf_hypoxia.DAL_ROMS.2004-2009_ias_obc_with_oxygen_hnd_soc_30layers, name: Shelf Hypoxia : DAL : ROMS : 2004-2009 ias obc with oxygen hnd soc 30layers, services: ['OPENDAP', 'WCS', 'WMS', 'NetcdfSubset', 'NCML', 'UDDC', 'ISO']>, <LeafDataset id: shelf_hypoxia.DAL_ROMS.2004-2009_hycom_obc_with_oxygen_hnd_soc_30layers, name: Shelf Hypoxia : DAL : ROMS : 2004-2009 hycom obc with oxygen hnd soc 30layers, services: ['OPENDAP', 'WCS', 'WMS', 'NetcdfSubset', 'NCML', 'UDDC', 'ISO']>, <LeafDataset id: shelf_hypoxia.DAL_ROMS.2004-2009_ias_obc_with_oxygen_inst_rem_30layers, name: Shelf Hypoxia : DAL : ROMS : 2004-2009 ias obc with oxygen inst rem 30layers, services: ['OPENDAP', 'WCS', 'WMS', 'NetcdfSubset', 'NCML', 'UDDC', 'ISO']>, <LeafDataset id: shelf_hypoxia.NOAA_NGOM.2005-2011_NGOM, name: Shelf Hypoxia : NOAA : NGOM : 2005-2011 NGOM, services: ['OPENDAP', 'WCS', 'WMS', 'NetcdfSubset', 'NCML', 'UDDC', 'ISO']>, <LeafDataset id: shelf_hypoxia.TAMU_ROMS.2004-2009_hycom_obc_24h, name: Shelf Hypoxia : TAMU : ROMS : 2004-2009 hycom obc 24h, services: ['OPENDAP', 'WCS', 'WMS', 'NetcdfSubset', 'NCML', 'UDDC', 'ISO']>, <LeafDataset id: shelf_hypoxia.TAMU_ROMS.2004-2009_iasnfs_obc_24h, name: Shelf Hypoxia : TAMU : ROMS : 2004-2009 iasnfs obc 24h, services: ['OPENDAP', 'WCS', 'WMS', 'NetcdfSubset', 'NCML', 'UDDC', 'ISO']>, <LeafDataset id: shelf_hypoxia.TAMU_ROMS.2004-2009_ngom_obc_24h, name: Shelf Hypoxia : TAMU : ROMS : 2004-2009 hycom obc 24h, services: ['OPENDAP', 'WCS', 'WMS', 'NetcdfSubset', 'NCML', 'UDDC', 'ISO']>, <LeafDataset id: estuarine_hypoxia.VIMS_EFDC.2004_DO3d, name: Estuarine Hypoxia : VIMS : EFDC : 2004_DO, services: ['OPENDAP', 'WCS', 'WMS', 'NetcdfSubset', 'NCML', 'UDDC', 'ISO']>]"
       ]
      },
      {
       "output_type": "stream",
       "stream": "stdout",
       "text": [
        "\n"
       ]
      }
     ],
     "prompt_number": 4
    },
    {
     "cell_type": "code",
     "collapsed": false,
     "input": [
      "dap_urls = [s.get(\"url\") for d in c.datasets for s in d.services if s.get(\"service\").lower() == \"opendap\"]"
     ],
     "language": "python",
     "metadata": {},
     "outputs": [],
     "prompt_number": 5
    },
    {
     "cell_type": "code",
     "collapsed": false,
     "input": [
      "ugrid=[]\n",
      "cf=[]\n",
      "not_cf=[]\n",
      "for url in dap_urls:\n",
      "    print url\n",
      "    try:\n",
      "        ug = pyugrid.UGrid.from_ncfile(url)\n",
      "        ugrid.append(url)\n",
      "    except:\n",
      "        print 'not a ugrid'\n",
      "\n",
      "    try:\n",
      "        cube = iris.load_cube(url,'sea_surface_height_above_geoid')\n",
      "        cf.append(url)\n",
      "    except:\n",
      "        not_cf.append(url)"
     ],
     "language": "python",
     "metadata": {},
     "outputs": [
      {
       "output_type": "stream",
       "stream": "stdout",
       "text": [
        "http://comt.sura.org/thredds/dodsC/data/comt_1_archive/inundation_tropical/MDL_SLOSH/Hurricane_Ike_final_run_egm3\n",
        "not a ugrid\n",
        "http://comt.sura.org/thredds/dodsC/data/comt_1_archive/inundation_tropical/MDL_SLOSH/Hurricane_Rita_final_run_egm3"
       ]
      },
      {
       "output_type": "stream",
       "stream": "stdout",
       "text": [
        "\n",
        "not a ugrid\n",
        "http://comt.sura.org/thredds/dodsC/data/comt_1_archive/inundation_tropical/UND_ADCIRC/Hurricane_Ike_2D_final_run_with_waves"
       ]
      },
      {
       "output_type": "stream",
       "stream": "stdout",
       "text": [
        "\n",
        "http://comt.sura.org/thredds/dodsC/data/comt_1_archive/inundation_tropical/UND_ADCIRC/Hurricane_Ike_2D_final_run_without_waves"
       ]
      },
      {
       "output_type": "stream",
       "stream": "stdout",
       "text": [
        "\n",
        "http://comt.sura.org/thredds/dodsC/data/comt_1_archive/inundation_tropical/UND_ADCIRC/Hurricane_Ike_2D_preliminary_run_1_spinup"
       ]
      },
      {
       "output_type": "stream",
       "stream": "stdout",
       "text": [
        "\n",
        "http://comt.sura.org/thredds/dodsC/data/comt_1_archive/inundation_tropical/UND_ADCIRC/Hurricane_Ike_2D_preliminary_run_2_spinup_without_advection_implicit_1s"
       ]
      },
      {
       "output_type": "stream",
       "stream": "stdout",
       "text": [
        "\n",
        "http://comt.sura.org/thredds/dodsC/data/comt_1_archive/inundation_tropical/UND_ADCIRC/Hurricane_Ike_2D_preliminary_run_3_spinup_with_levees"
       ]
      },
      {
       "output_type": "stream",
       "stream": "stdout",
       "text": [
        "\n",
        "http://comt.sura.org/thredds/dodsC/data/comt_1_archive/inundation_tropical/UND_ADCIRC/Hurricane_Ike_2D_preliminary_run_4_spinup_with_levees_and_river_flow"
       ]
      },
      {
       "output_type": "stream",
       "stream": "stdout",
       "text": [
        "\n",
        "http://comt.sura.org/thredds/dodsC/data/comt_1_archive/inundation_tropical/UND_ADCIRC/Hurricane_Ike_2D_preliminary_run_5_tides_only"
       ]
      },
      {
       "output_type": "stream",
       "stream": "stdout",
       "text": [
        "\n",
        "http://comt.sura.org/thredds/dodsC/data/comt_1_archive/inundation_tropical/UND_ADCIRC/Hurricane_Ike_2D_preliminary_run_6_without_waves_and_advection_implicit_1s"
       ]
      },
      {
       "output_type": "stream",
       "stream": "stdout",
       "text": [
        "\n",
        "http://comt.sura.org/thredds/dodsC/data/comt_1_archive/inundation_tropical/UND_ADCIRC/Hurricane_Ike_2D_preliminary_run_7_with_waves_without_advection_implicit_1s"
       ]
      },
      {
       "output_type": "stream",
       "stream": "stdout",
       "text": [
        "\n",
        "http://comt.sura.org/thredds/dodsC/data/comt_1_archive/inundation_tropical/UND_ADCIRC/Hurricane_Ike_2D_preliminary_run_8_with_waves_and_levees"
       ]
      },
      {
       "output_type": "stream",
       "stream": "stdout",
       "text": [
        "\n",
        "http://comt.sura.org/thredds/dodsC/data/comt_1_archive/inundation_tropical/UND_ADCIRC/Hurricane_Ike_2D_preliminary_run_9_with_waves_and_levees_and_river_flow"
       ]
      },
      {
       "output_type": "stream",
       "stream": "stdout",
       "text": [
        "\n",
        "http://comt.sura.org/thredds/dodsC/data/comt_1_archive/inundation_tropical/UND_ADCIRC/Hurricane_Ike_3D_final_run_with_waves"
       ]
      },
      {
       "output_type": "stream",
       "stream": "stdout",
       "text": [
        "\n",
        "http://comt.sura.org/thredds/dodsC/data/comt_1_archive/inundation_tropical/UND_ADCIRC/Hurricane_Ike_3D_final_run_without_waves"
       ]
      },
      {
       "output_type": "stream",
       "stream": "stdout",
       "text": [
        "\n",
        "http://comt.sura.org/thredds/dodsC/data/comt_1_archive/inundation_tropical/UND_ADCIRC/Hurricane_Ike_3D_preliminary_run_1_spinup"
       ]
      },
      {
       "output_type": "stream",
       "stream": "stdout",
       "text": [
        "\n",
        "http://comt.sura.org/thredds/dodsC/data/comt_1_archive/inundation_tropical/UND_ADCIRC/Hurricane_Ike_Timing_with_waves"
       ]
      },
      {
       "output_type": "stream",
       "stream": "stdout",
       "text": [
        "\n",
        "http://comt.sura.org/thredds/dodsC/data/comt_1_archive/inundation_tropical/UND_ADCIRC/Hurricane_Ike_Timing_without_waves"
       ]
      },
      {
       "output_type": "stream",
       "stream": "stdout",
       "text": [
        "\n",
        "http://comt.sura.org/thredds/dodsC/data/comt_1_archive/inundation_tropical/UND_ADCIRC/Hurricane_Rita_2D_final_run_with_waves"
       ]
      },
      {
       "output_type": "stream",
       "stream": "stdout",
       "text": [
        "\n",
        "http://comt.sura.org/thredds/dodsC/data/comt_1_archive/inundation_tropical/UND_ADCIRC/Hurricane_Rita_2D_final_run_without_waves"
       ]
      },
      {
       "output_type": "stream",
       "stream": "stdout",
       "text": [
        "\n",
        "http://comt.sura.org/thredds/dodsC/data/comt_1_archive/inundation_tropical/UND_ADCIRC/Hurricane_Rita_2D_preliminary_run_1_spinup"
       ]
      },
      {
       "output_type": "stream",
       "stream": "stdout",
       "text": [
        "\n",
        "http://comt.sura.org/thredds/dodsC/data/comt_1_archive/inundation_tropical/UND_ADCIRC/Hurricane_Rita_2D_preliminary_run_2_spinup_without_advection_implicit_1s"
       ]
      },
      {
       "output_type": "stream",
       "stream": "stdout",
       "text": [
        "\n",
        "http://comt.sura.org/thredds/dodsC/data/comt_1_archive/inundation_tropical/UND_ADCIRC/Hurricane_Rita_2D_preliminary_run_3_tides_only"
       ]
      },
      {
       "output_type": "stream",
       "stream": "stdout",
       "text": [
        "\n",
        "http://comt.sura.org/thredds/dodsC/data/comt_1_archive/inundation_tropical/UND_ADCIRC/Hurricane_Rita_2D_preliminary_run_4_with_waves_without_advection_implicit_1s"
       ]
      },
      {
       "output_type": "stream",
       "stream": "stdout",
       "text": [
        "\n",
        "http://comt.sura.org/thredds/dodsC/data/comt_1_archive/inundation_tropical/UND_ADCIRC/Hurricane_Rita_2D_preliminary_run_5_without_waves_and_advection_implicit_1s"
       ]
      },
      {
       "output_type": "stream",
       "stream": "stdout",
       "text": [
        "\n",
        "http://comt.sura.org/thredds/dodsC/data/comt_1_archive/inundation_tropical/UND_ADCIRC/Hurricane_Rita_3D_final_run_with_waves"
       ]
      },
      {
       "output_type": "stream",
       "stream": "stdout",
       "text": [
        "\n",
        "http://comt.sura.org/thredds/dodsC/data/comt_1_archive/inundation_tropical/UND_ADCIRC/Hurricane_Rita_3D_final_run_without_waves"
       ]
      },
      {
       "output_type": "stream",
       "stream": "stdout",
       "text": [
        "\n",
        "http://comt.sura.org/thredds/dodsC/data/comt_1_archive/inundation_tropical/UND_ADCIRC/Hurricane_Rita_3D_preliminary_run_1_spinup"
       ]
      },
      {
       "output_type": "stream",
       "stream": "stdout",
       "text": [
        "\n",
        "http://comt.sura.org/thredds/dodsC/data/comt_1_archive/inundation_tropical/UND_ADCIRC/Tides_only_2D_final_run"
       ]
      },
      {
       "output_type": "stream",
       "stream": "stdout",
       "text": [
        "\n",
        "http://comt.sura.org/thredds/dodsC/data/comt_1_archive/inundation_tropical/UND_ADCIRC/Tides_only_2D_preliminary_run_1_without_advection_implicit_1s"
       ]
      },
      {
       "output_type": "stream",
       "stream": "stdout",
       "text": [
        "\n",
        "http://comt.sura.org/thredds/dodsC/data/comt_1_archive/inundation_tropical/UND_ADCIRC/Tides_only_3D_final_run"
       ]
      },
      {
       "output_type": "stream",
       "stream": "stdout",
       "text": [
        "\n",
        "http://comt.sura.org/thredds/dodsC/data/comt_1_archive/inundation_tropical/UND_SLOSH/Hurricane_Ike_final_run_egl3"
       ]
      },
      {
       "output_type": "stream",
       "stream": "stdout",
       "text": [
        "\n",
        "not a ugrid"
       ]
      },
      {
       "output_type": "stream",
       "stream": "stdout",
       "text": [
        "\n",
        "http://comt.sura.org/thredds/dodsC/data/comt_1_archive/inundation_tropical/UND_SLOSH/Hurricane_Ike_final_run_egm3"
       ]
      },
      {
       "output_type": "stream",
       "stream": "stdout",
       "text": [
        "\n",
        "not a ugrid\n",
        "http://comt.sura.org/thredds/dodsC/data/comt_1_archive/inundation_tropical/UND_SLOSH/Hurricane_Ike_preliminary_run_1_egl3_without_tides"
       ]
      },
      {
       "output_type": "stream",
       "stream": "stdout",
       "text": [
        "\n",
        "not a ugrid\n",
        "http://comt.sura.org/thredds/dodsC/data/comt_1_archive/inundation_tropical/UND_SLOSH/Hurricane_Ike_preliminary_run_2_egl3_with_SLOSH_winds"
       ]
      },
      {
       "output_type": "stream",
       "stream": "stdout",
       "text": [
        "\n",
        "not a ugrid\n",
        "http://comt.sura.org/thredds/dodsC/data/comt_1_archive/inundation_tropical/UND_SLOSH/Hurricane_Ike_preliminary_run_3_egl3_with_SLOSH_winds_without_tides"
       ]
      },
      {
       "output_type": "stream",
       "stream": "stdout",
       "text": [
        "\n",
        "not a ugrid\n",
        "http://comt.sura.org/thredds/dodsC/data/comt_1_archive/inundation_tropical/UND_SLOSH/Hurricane_Ike_preliminary_run_4_egm3_without_tides"
       ]
      },
      {
       "output_type": "stream",
       "stream": "stdout",
       "text": [
        "\n",
        "not a ugrid\n",
        "http://comt.sura.org/thredds/dodsC/data/comt_1_archive/inundation_tropical/UND_SLOSH/Hurricane_Ike_preliminary_run_5_egm3_with_SLOSH_winds"
       ]
      },
      {
       "output_type": "stream",
       "stream": "stdout",
       "text": [
        "\n",
        "not a ugrid\n",
        "http://comt.sura.org/thredds/dodsC/data/comt_1_archive/inundation_tropical/UND_SLOSH/Hurricane_Ike_preliminary_run_6_egm3_with_SLOSH_winds_without_tides"
       ]
      },
      {
       "output_type": "stream",
       "stream": "stdout",
       "text": [
        "\n",
        "not a ugrid\n",
        "http://comt.sura.org/thredds/dodsC/data/comt_1_archive/inundation_tropical/UND_SLOSH/Hurricane_Rita_final_run_ebp3"
       ]
      },
      {
       "output_type": "stream",
       "stream": "stdout",
       "text": [
        "\n",
        "not a ugrid\n",
        "http://comt.sura.org/thredds/dodsC/data/comt_1_archive/inundation_tropical/UND_SLOSH/Hurricane_Rita_final_run_egm3"
       ]
      },
      {
       "output_type": "stream",
       "stream": "stdout",
       "text": [
        "\n",
        "not a ugrid\n",
        "http://comt.sura.org/thredds/dodsC/data/comt_1_archive/inundation_tropical/UND_SLOSH/Hurricane_Rita_preliminary_run_1_ebp3_without_tides"
       ]
      },
      {
       "output_type": "stream",
       "stream": "stdout",
       "text": [
        "\n",
        "not a ugrid\n",
        "http://comt.sura.org/thredds/dodsC/data/comt_1_archive/inundation_tropical/UND_SLOSH/Hurricane_Rita_preliminary_run_2_ebp3_with_SLOSH_winds"
       ]
      },
      {
       "output_type": "stream",
       "stream": "stdout",
       "text": [
        "\n",
        "not a ugrid\n",
        "http://comt.sura.org/thredds/dodsC/data/comt_1_archive/inundation_tropical/UND_SLOSH/Hurricane_Rita_preliminary_run_3_ebp3_with_SLOSH_winds_without_tides"
       ]
      },
      {
       "output_type": "stream",
       "stream": "stdout",
       "text": [
        "\n",
        "not a ugrid\n",
        "http://comt.sura.org/thredds/dodsC/data/comt_1_archive/inundation_tropical/UND_SLOSH/Hurricane_Rita_preliminary_run_4_egm3_without_tides"
       ]
      },
      {
       "output_type": "stream",
       "stream": "stdout",
       "text": [
        "\n",
        "not a ugrid\n",
        "http://comt.sura.org/thredds/dodsC/data/comt_1_archive/inundation_tropical/UND_SLOSH/Hurricane_Rita_preliminary_run_5_egm3_with_SLOSH_winds"
       ]
      },
      {
       "output_type": "stream",
       "stream": "stdout",
       "text": [
        "\n",
        "not a ugrid\n",
        "http://comt.sura.org/thredds/dodsC/data/comt_1_archive/inundation_tropical/UND_SLOSH/Hurricane_Rita_preliminary_run_6_egm3_with_SLOSH_winds_without_tides"
       ]
      },
      {
       "output_type": "stream",
       "stream": "stdout",
       "text": [
        "\n",
        "not a ugrid\n",
        "http://comt.sura.org/thredds/dodsC/data/comt_1_archive/inundation_tropical/USF_FVCOM/Hurricane_Ike_2D_final_run_with_waves"
       ]
      },
      {
       "output_type": "stream",
       "stream": "stdout",
       "text": [
        "\n",
        "http://comt.sura.org/thredds/dodsC/data/comt_1_archive/inundation_tropical/USF_FVCOM/Hurricane_Ike_2D_final_run_without_waves"
       ]
      },
      {
       "output_type": "stream",
       "stream": "stdout",
       "text": [
        "\n",
        "http://comt.sura.org/thredds/dodsC/data/comt_1_archive/inundation_tropical/USF_FVCOM/Hurricane_Ike_3D_final_run_with_waves"
       ]
      },
      {
       "output_type": "stream",
       "stream": "stdout",
       "text": [
        "\n",
        "http://comt.sura.org/thredds/dodsC/data/comt_1_archive/inundation_tropical/USF_FVCOM/Hurricane_Ike_3D_final_run_without_waves"
       ]
      },
      {
       "output_type": "stream",
       "stream": "stdout",
       "text": [
        "\n",
        "http://comt.sura.org/thredds/dodsC/data/comt_1_archive/inundation_tropical/USF_FVCOM/Hurricane_Rita_2D_final_run_with_waves"
       ]
      },
      {
       "output_type": "stream",
       "stream": "stdout",
       "text": [
        "\n",
        "http://comt.sura.org/thredds/dodsC/data/comt_1_archive/inundation_tropical/USF_FVCOM/Hurricane_Rita_2D_final_run_without_waves"
       ]
      },
      {
       "output_type": "stream",
       "stream": "stdout",
       "text": [
        "\n",
        "http://comt.sura.org/thredds/dodsC/data/comt_1_archive/inundation_tropical/USF_FVCOM/Hurricane_Rita_3D_final_run_with_waves"
       ]
      },
      {
       "output_type": "stream",
       "stream": "stdout",
       "text": [
        "\n",
        "http://comt.sura.org/thredds/dodsC/data/comt_1_archive/inundation_tropical/USF_FVCOM/Hurricane_Rita_3D_final_run_without_waves"
       ]
      },
      {
       "output_type": "stream",
       "stream": "stdout",
       "text": [
        "\n",
        "http://comt.sura.org/thredds/dodsC/data/comt_1_archive/inundation_tropical/USF_FVCOM/SWAN_Ike_final_run_with_2DSurge"
       ]
      },
      {
       "output_type": "stream",
       "stream": "stdout",
       "text": [
        "\n",
        "http://comt.sura.org/thredds/dodsC/data/comt_1_archive/inundation_tropical/USF_FVCOM/SWAN_Ike_final_run_without_Surge"
       ]
      },
      {
       "output_type": "stream",
       "stream": "stdout",
       "text": [
        "\n",
        "http://comt.sura.org/thredds/dodsC/data/comt_1_archive/inundation_tropical/USF_FVCOM/SWAN_Rita_final_run_with_2DSurge"
       ]
      },
      {
       "output_type": "stream",
       "stream": "stdout",
       "text": [
        "\n",
        "http://comt.sura.org/thredds/dodsC/data/comt_1_archive/inundation_tropical/USF_FVCOM/SWAN_Rita_final_run_without_Surge"
       ]
      },
      {
       "output_type": "stream",
       "stream": "stdout",
       "text": [
        "\n",
        "http://comt.sura.org/thredds/dodsC/data/comt_1_archive/inundation_tropical/USF_FVCOM/Tides_only_2D_final_run"
       ]
      },
      {
       "output_type": "stream",
       "stream": "stdout",
       "text": [
        "\n",
        "http://comt.sura.org/thredds/dodsC/data/comt_1_archive/inundation_tropical/USF_FVCOM/Tides_only_2D_preliminary_run_1_fixed_manning"
       ]
      },
      {
       "output_type": "stream",
       "stream": "stdout",
       "text": [
        "\n",
        "http://comt.sura.org/thredds/dodsC/data/comt_1_archive/inundation_tropical/USF_FVCOM/Tides_only_2D_preliminary_run_2_varied_manning_minimum_manning_0.025"
       ]
      },
      {
       "output_type": "stream",
       "stream": "stdout",
       "text": [
        "\n",
        "http://comt.sura.org/thredds/dodsC/data/comt_1_archive/inundation_tropical/USF_FVCOM/Tides_only_3D_final_run"
       ]
      },
      {
       "output_type": "stream",
       "stream": "stderr",
       "text": [
        "Exception AttributeError: \"'CFReader' object has no attribute '_dataset'\" in <bound method CFReader.__del__ of CFReader('http://comt.sura.org/thredds/dodsC/data/comt_1_archive/inundation_tropical/USF_FVCOM/Tides_only_3D_final_run')> ignored\n",
        "Exception "
       ]
      },
      {
       "output_type": "stream",
       "stream": "stdout",
       "text": [
        "\n",
        "not a ugrid\n",
        "http://comt.sura.org/thredds/dodsC/data/comt_1_archive/inundation_tropical/USF_FVCOM/Tides_only_3D_preliminary_run_1_fixed_roughness\n",
        "not a ugrid\n",
        "http://comt.sura.org/thredds/dodsC/data/comt_1_archive/inundation_tropical/VIMS_SELFE/Hurricane_Ike_2D_final_run_wave_only\n",
        "http://comt.sura.org/thredds/dodsC/data/comt_1_archive/inundation_tropical/VIMS_SELFE/Hurricane_Ike_2D_final_run_with_waves"
       ]
      },
      {
       "output_type": "stream",
       "stream": "stdout",
       "text": [
        "\n",
        "http://comt.sura.org/thredds/dodsC/data/comt_1_archive/inundation_tropical/VIMS_SELFE/Hurricane_Ike_2D_final_run_without_waves"
       ]
      },
      {
       "output_type": "stream",
       "stream": "stdout",
       "text": [
        "\n",
        "http://comt.sura.org/thredds/dodsC/data/comt_1_archive/inundation_tropical/VIMS_SELFE/Hurricane_Ike_3D_final_run_with_waves"
       ]
      },
      {
       "output_type": "stream",
       "stream": "stdout",
       "text": [
        "\n",
        "http://comt.sura.org/thredds/dodsC/data/comt_1_archive/inundation_tropical/VIMS_SELFE/Hurricane_Ike_3D_final_run_without_waves"
       ]
      },
      {
       "output_type": "stream",
       "stream": "stdout",
       "text": [
        "\n",
        "http://comt.sura.org/thredds/dodsC/data/comt_1_archive/inundation_tropical/VIMS_SELFE/Hurricane_Rita_2D_final_run_waves_only"
       ]
      },
      {
       "output_type": "stream",
       "stream": "stdout",
       "text": [
        "\n",
        "http://comt.sura.org/thredds/dodsC/data/comt_1_archive/inundation_tropical/VIMS_SELFE/Hurricane_Rita_2D_final_run_with_waves"
       ]
      },
      {
       "output_type": "stream",
       "stream": "stdout",
       "text": [
        "\n",
        "http://comt.sura.org/thredds/dodsC/data/comt_1_archive/inundation_tropical/VIMS_SELFE/Hurricane_Rita_2D_final_run_without_waves"
       ]
      },
      {
       "output_type": "stream",
       "stream": "stdout",
       "text": [
        "\n",
        "http://comt.sura.org/thredds/dodsC/data/comt_1_archive/inundation_tropical/VIMS_SELFE/Hurricane_Rita_3D_final_run_with_waves"
       ]
      },
      {
       "output_type": "stream",
       "stream": "stdout",
       "text": [
        "\n",
        "http://comt.sura.org/thredds/dodsC/data/comt_1_archive/inundation_tropical/VIMS_SELFE/Hurricane_Rita_3D_final_run_without_waves"
       ]
      },
      {
       "output_type": "stream",
       "stream": "stdout",
       "text": [
        "\n",
        "http://comt.sura.org/thredds/dodsC/data/comt_1_archive/inundation_extratropical/UMASS_FVCOM/2005_3D_final_run_without_waves"
       ]
      },
      {
       "output_type": "stream",
       "stream": "stdout",
       "text": [
        "\n",
        "http://comt.sura.org/thredds/dodsC/data/comt_1_archive/inundation_extratropical/UMASS_FVCOM/2005_3D_final_run_waves_only"
       ]
      },
      {
       "output_type": "stream",
       "stream": "stdout",
       "text": [
        "\n",
        "http://comt.sura.org/thredds/dodsC/data/comt_1_archive/inundation_extratropical/UMASS_FVCOM/2005_3D_final_run_with_waves"
       ]
      },
      {
       "output_type": "stream",
       "stream": "stdout",
       "text": [
        "\n",
        "http://comt.sura.org/thredds/dodsC/data/comt_1_archive/inundation_extratropical/UMASS_FVCOM/2007_3D_final_run_without_waves"
       ]
      },
      {
       "output_type": "stream",
       "stream": "stdout",
       "text": [
        "\n",
        "http://comt.sura.org/thredds/dodsC/data/comt_1_archive/inundation_extratropical/UMASS_FVCOM/2007_3D_final_run_waves_only"
       ]
      },
      {
       "output_type": "stream",
       "stream": "stdout",
       "text": [
        "\n",
        "http://comt.sura.org/thredds/dodsC/data/comt_1_archive/inundation_extratropical/UMASS_FVCOM/2007_3D_final_run_with_waves"
       ]
      },
      {
       "output_type": "stream",
       "stream": "stdout",
       "text": [
        "\n",
        "http://comt.sura.org/thredds/dodsC/data/comt_1_archive/inundation_extratropical/UND_ADCIRC/2005_2D_final_run_without_waves"
       ]
      },
      {
       "output_type": "stream",
       "stream": "stdout",
       "text": [
        "\n",
        "http://comt.sura.org/thredds/dodsC/data/comt_1_archive/inundation_extratropical/UND_ADCIRC/2005_2D_final_run_wave_model_only_without_circulation"
       ]
      },
      {
       "output_type": "stream",
       "stream": "stdout",
       "text": [
        "\n",
        "http://comt.sura.org/thredds/dodsC/data/comt_1_archive/inundation_extratropical/UND_ADCIRC/2005_2D_final_run_with_waves"
       ]
      },
      {
       "output_type": "stream",
       "stream": "stdout",
       "text": [
        "\n",
        "http://comt.sura.org/thredds/dodsC/data/comt_1_archive/inundation_extratropical/UND_ADCIRC/2007_2D_final_run_without_waves"
       ]
      },
      {
       "output_type": "stream",
       "stream": "stdout",
       "text": [
        "\n",
        "http://comt.sura.org/thredds/dodsC/data/comt_1_archive/inundation_extratropical/UND_ADCIRC/2007_2D_final_run_wave_model_only_without_circulation"
       ]
      },
      {
       "output_type": "stream",
       "stream": "stdout",
       "text": [
        "\n",
        "http://comt.sura.org/thredds/dodsC/data/comt_1_archive/inundation_extratropical/UND_ADCIRC/2007_2D_final_run_with_waves"
       ]
      },
      {
       "output_type": "stream",
       "stream": "stdout",
       "text": [
        "\n",
        "http://comt.sura.org/thredds/dodsC/data/comt_1_archive/inundation_extratropical/UND_ADCIRC/2010_2D_final_run_tides_only"
       ]
      },
      {
       "output_type": "stream",
       "stream": "stdout",
       "text": [
        "\n",
        "http://comt.sura.org/thredds/dodsC/data/comt_1_archive/inundation_extratropical/VIMS_SELFE/2005_2D_final_run_waves_only"
       ]
      },
      {
       "output_type": "stream",
       "stream": "stdout",
       "text": [
        "\n",
        "http://comt.sura.org/thredds/dodsC/data/comt_1_archive/inundation_extratropical/VIMS_SELFE/2005_2D_final_run_with_waves"
       ]
      },
      {
       "output_type": "stream",
       "stream": "stdout",
       "text": [
        "\n",
        "http://comt.sura.org/thredds/dodsC/data/comt_1_archive/inundation_extratropical/VIMS_SELFE/2005_2D_final_run_without_waves"
       ]
      },
      {
       "output_type": "stream",
       "stream": "stdout",
       "text": [
        "\n",
        "http://comt.sura.org/thredds/dodsC/data/comt_1_archive/inundation_extratropical/VIMS_SELFE/2005_2D_preliminary_run_waves_only"
       ]
      },
      {
       "output_type": "stream",
       "stream": "stdout",
       "text": [
        "\n",
        "http://comt.sura.org/thredds/dodsC/data/comt_1_archive/inundation_extratropical/VIMS_SELFE/2005_2D_preliminary_run_with_waves"
       ]
      },
      {
       "output_type": "stream",
       "stream": "stdout",
       "text": [
        "\n",
        "http://comt.sura.org/thredds/dodsC/data/comt_1_archive/inundation_extratropical/VIMS_SELFE/2005_2D_preliminary_run_without_waves"
       ]
      },
      {
       "output_type": "stream",
       "stream": "stdout",
       "text": [
        "\n",
        "http://comt.sura.org/thredds/dodsC/data/comt_1_archive/inundation_extratropical/VIMS_SELFE/2007_2D_final_run_waves_only"
       ]
      },
      {
       "output_type": "stream",
       "stream": "stdout",
       "text": [
        "\n",
        "http://comt.sura.org/thredds/dodsC/data/comt_1_archive/inundation_extratropical/VIMS_SELFE/2007_2D_final_run_with_waves"
       ]
      },
      {
       "output_type": "stream",
       "stream": "stdout",
       "text": [
        "\n",
        "http://comt.sura.org/thredds/dodsC/data/comt_1_archive/inundation_extratropical/VIMS_SELFE/2007_2D_final_run_without_waves"
       ]
      },
      {
       "output_type": "stream",
       "stream": "stdout",
       "text": [
        "\n",
        "http://comt.sura.org/thredds/dodsC/data/comt_1_archive/inundation_extratropical/VIMS_SELFE/2007_2D_preliminary_run_waves_only"
       ]
      },
      {
       "output_type": "stream",
       "stream": "stdout",
       "text": [
        "\n",
        "http://comt.sura.org/thredds/dodsC/data/comt_1_archive/inundation_extratropical/VIMS_SELFE/2007_2D_preliminary_run_with_waves"
       ]
      },
      {
       "output_type": "stream",
       "stream": "stdout",
       "text": [
        "\n",
        "http://comt.sura.org/thredds/dodsC/data/comt_1_archive/inundation_extratropical/VIMS_SELFE/2007_2D_preliminary_run_without_waves"
       ]
      },
      {
       "output_type": "stream",
       "stream": "stdout",
       "text": [
        "\n",
        "http://comt.sura.org/thredds/dodsC/data/comt_1_archive/inundation_extratropical/VIMS_SELFE/2010_2D_final_run_tide_only"
       ]
      },
      {
       "output_type": "stream",
       "stream": "stdout",
       "text": [
        "\n",
        "http://comt.sura.org/thredds/dodsC/data/comt_1_archive/inundation_extratropical/VIMS_SELFE/2010_2D_preliminary_run_without_waves"
       ]
      },
      {
       "output_type": "stream",
       "stream": "stdout",
       "text": [
        "\n",
        "http://comt.sura.org/thredds/dodsC/data/comt_1_archive/estuarine_hypoxia/VIMS_CBOFS/2004-2005"
       ]
      },
      {
       "output_type": "stream",
       "stream": "stdout",
       "text": [
        "\n",
        "not a ugrid"
       ]
      },
      {
       "output_type": "stream",
       "stream": "stdout",
       "text": [
        "\n",
        "http://comt.sura.org/thredds/dodsC/data/comt_1_archive/shelf_hypoxia/DAL_ROMS/2004-2009_climatology_obc_with_oxygen_inst_rem_20layers"
       ]
      },
      {
       "output_type": "stream",
       "stream": "stdout",
       "text": [
        "\n",
        "not a ugrid"
       ]
      },
      {
       "output_type": "stream",
       "stream": "stdout",
       "text": [
        "\n",
        "http://comt.sura.org/thredds/dodsC/data/comt_1_archive/shelf_hypoxia/DAL_ROMS/2004-2009_hycom_obc_with_oxygen_inst_rem_30layers"
       ]
      },
      {
       "output_type": "stream",
       "stream": "stdout",
       "text": [
        "\n",
        "not a ugrid"
       ]
      },
      {
       "output_type": "stream",
       "stream": "stdout",
       "text": [
        "\n",
        "http://comt.sura.org/thredds/dodsC/data/comt_1_archive/shelf_hypoxia/DAL_ROMS/2004-2009_ias_obc_with_oxygen_hnd_soc_30layers"
       ]
      },
      {
       "output_type": "stream",
       "stream": "stdout",
       "text": [
        "\n",
        "not a ugrid"
       ]
      },
      {
       "output_type": "stream",
       "stream": "stdout",
       "text": [
        "\n",
        "http://comt.sura.org/thredds/dodsC/data/comt_1_archive/shelf_hypoxia/DAL_ROMS/2004-2009_hycom_obc_with_oxygen_hnd_soc_30layers"
       ]
      },
      {
       "output_type": "stream",
       "stream": "stdout",
       "text": [
        "\n",
        "not a ugrid"
       ]
      },
      {
       "output_type": "stream",
       "stream": "stdout",
       "text": [
        "\n",
        "http://comt.sura.org/thredds/dodsC/data/comt_1_archive/shelf_hypoxia/DAL_ROMS/2004-2009_ias_obc_with_oxygen_inst_rem_30layers"
       ]
      },
      {
       "output_type": "stream",
       "stream": "stdout",
       "text": [
        "\n",
        "not a ugrid"
       ]
      },
      {
       "output_type": "stream",
       "stream": "stdout",
       "text": [
        "\n",
        "http://comt.sura.org/thredds/dodsC/data/comt_1_archive/shelf_hypoxia/NOAA_NGOM/2005-2011_NGOM"
       ]
      },
      {
       "output_type": "stream",
       "stream": "stdout",
       "text": [
        "\n",
        "not a ugrid"
       ]
      },
      {
       "output_type": "stream",
       "stream": "stdout",
       "text": [
        "\n",
        "http://comt.sura.org/thredds/dodsC/data/comt_1_archive/shelf_hypoxia/TAMU_ROMS/2004-2009_hycom_obc_24h"
       ]
      },
      {
       "output_type": "stream",
       "stream": "stdout",
       "text": [
        "\n",
        "not a ugrid"
       ]
      },
      {
       "output_type": "stream",
       "stream": "stdout",
       "text": [
        "\n",
        "http://comt.sura.org/thredds/dodsC/data/comt_1_archive/shelf_hypoxia/TAMU_ROMS/2004-2009_iasnfs_obc_24h"
       ]
      },
      {
       "output_type": "stream",
       "stream": "stdout",
       "text": [
        "\n",
        "not a ugrid"
       ]
      },
      {
       "output_type": "stream",
       "stream": "stdout",
       "text": [
        "\n",
        "http://comt.sura.org/thredds/dodsC/data/comt_1_archive/shelf_hypoxia/TAMU_ROMS/2004-2009_ngom_obc_24h"
       ]
      },
      {
       "output_type": "stream",
       "stream": "stdout",
       "text": [
        "\n",
        "not a ugrid"
       ]
      },
      {
       "output_type": "stream",
       "stream": "stdout",
       "text": [
        "\n",
        "http://comt.sura.org/thredds/dodsC/data/comt_1_archive/estuarine_hypoxia/VIMS_EFDC/2004_DO3d"
       ]
      },
      {
       "output_type": "stream",
       "stream": "stdout",
       "text": [
        "\n",
        "not a ugrid\n"
       ]
      },
      {
       "output_type": "stream",
       "stream": "stderr",
       "text": [
        "AttributeError: \"'CFReader' object has no attribute '_dataset'\" in <bound method CFReader.__del__ of CFReader('http://comt.sura.org/thredds/dodsC/data/comt_1_archive/inundation_tropical/USF_FVCOM/Tides_only_3D_preliminary_run_1_fixed_roughness')> ignored\n"
       ]
      }
     ],
     "prompt_number": 7
    },
    {
     "cell_type": "code",
     "collapsed": false,
     "input": [
      "len(ugrid)"
     ],
     "language": "python",
     "metadata": {},
     "outputs": [
      {
       "metadata": {},
       "output_type": "pyout",
       "prompt_number": 8,
       "text": [
        "81"
       ]
      }
     ],
     "prompt_number": 8
    },
    {
     "cell_type": "code",
     "collapsed": false,
     "input": [
      "len(cf)"
     ],
     "language": "python",
     "metadata": {},
     "outputs": [
      {
       "metadata": {},
       "output_type": "pyout",
       "prompt_number": 9,
       "text": [
        "50"
       ]
      }
     ],
     "prompt_number": 9
    },
    {
     "cell_type": "code",
     "collapsed": false,
     "input": [
      "len(not_cf)"
     ],
     "language": "python",
     "metadata": {},
     "outputs": [
      {
       "metadata": {},
       "output_type": "pyout",
       "prompt_number": 10,
       "text": [
        "62"
       ]
      }
     ],
     "prompt_number": 10
    },
    {
     "cell_type": "code",
     "collapsed": false,
     "input": [],
     "language": "python",
     "metadata": {},
     "outputs": []
    }
   ],
   "metadata": {}
  }
 ]
}